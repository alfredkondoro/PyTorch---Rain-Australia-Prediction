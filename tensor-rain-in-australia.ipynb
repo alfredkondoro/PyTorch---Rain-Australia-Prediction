{
 "cells": [
  {
   "cell_type": "code",
   "execution_count": 1,
   "id": "8d4e03d5",
   "metadata": {
    "_cell_guid": "a3442126-95e8-4280-9a81-52f0a92ecc06",
    "_uuid": "08cf9f7c-e789-4131-a4cf-4ab525a12a37",
    "collapsed": false,
    "execution": {
     "iopub.execute_input": "2024-04-02T03:41:16.676311Z",
     "iopub.status.busy": "2024-04-02T03:41:16.675918Z",
     "iopub.status.idle": "2024-04-02T03:41:26.622600Z",
     "shell.execute_reply": "2024-04-02T03:41:26.621534Z"
    },
    "jupyter": {
     "outputs_hidden": false
    },
    "papermill": {
     "duration": 9.958318,
     "end_time": "2024-04-02T03:41:26.625086",
     "exception": false,
     "start_time": "2024-04-02T03:41:16.666768",
     "status": "completed"
    },
    "tags": []
   },
   "outputs": [],
   "source": [
    "import pandas as pd\n",
    "from sklearn.model_selection import train_test_split\n",
    "import torch\n",
    "from torch import nn\n",
    "from torch.utils.data import DataLoader, Dataset\n",
    "from torchvision import datasets\n",
    "from torchvision.transforms import ToTensor\n",
    "from torchvision import datasets, transforms\n",
    "import torch.optim as optim\n",
    "from torch.utils.data import random_split\n",
    "\n",
    "import warnings\n",
    "warnings.simplefilter(action='ignore', category=FutureWarning)"
   ]
  },
  {
   "cell_type": "code",
   "execution_count": 2,
   "id": "261de440",
   "metadata": {
    "_cell_guid": "a560c477-97b0-40b5-a315-a084660b82d1",
    "_uuid": "77a2a160-b3c8-4237-8b52-ff7a9caa6025",
    "collapsed": false,
    "execution": {
     "iopub.execute_input": "2024-04-02T03:41:26.641284Z",
     "iopub.status.busy": "2024-04-02T03:41:26.640831Z",
     "iopub.status.idle": "2024-04-02T03:41:26.727648Z",
     "shell.execute_reply": "2024-04-02T03:41:26.726533Z"
    },
    "jupyter": {
     "outputs_hidden": false
    },
    "papermill": {
     "duration": 0.097255,
     "end_time": "2024-04-02T03:41:26.729701",
     "exception": false,
     "start_time": "2024-04-02T03:41:26.632446",
     "status": "completed"
    },
    "tags": []
   },
   "outputs": [
    {
     "name": "stdout",
     "output_type": "stream",
     "text": [
      "True\n"
     ]
    }
   ],
   "source": [
    "print(torch.cuda.is_available())\n",
    "\n",
    "frac_train = 0.8\n",
    "batch_size = 64\n",
    "learning_rate = 0.0001\n",
    "learning_rates = [0.01, 0.005, 0.001, 0.0005, 0.0001, 0.00005, 0.00001]\n",
    "optimizers = {\n",
    "    'SGD': torch.optim.SGD,\n",
    "    'RMSprop': torch.optim.RMSprop,\n",
    "    'Adam': torch.optim.Adam,\n",
    "    #'LBFGS' : torch.optim.LBFGS,\n",
    "}\n",
    "epoch_num = 20"
   ]
  },
  {
   "cell_type": "code",
   "execution_count": 3,
   "id": "54ed9e6f",
   "metadata": {
    "_cell_guid": "004213fa-68a4-4027-a3f1-c29510b81f0d",
    "_uuid": "a6e1f17e-5d7b-4fd0-8e9b-3dc33c430240",
    "collapsed": false,
    "execution": {
     "iopub.execute_input": "2024-04-02T03:41:26.745493Z",
     "iopub.status.busy": "2024-04-02T03:41:26.744703Z",
     "iopub.status.idle": "2024-04-02T03:41:27.471783Z",
     "shell.execute_reply": "2024-04-02T03:41:27.470365Z"
    },
    "jupyter": {
     "outputs_hidden": false
    },
    "papermill": {
     "duration": 0.737159,
     "end_time": "2024-04-02T03:41:27.473967",
     "exception": false,
     "start_time": "2024-04-02T03:41:26.736808",
     "status": "completed"
    },
    "tags": []
   },
   "outputs": [
    {
     "name": "stdout",
     "output_type": "stream",
     "text": [
      "<class 'pandas.core.frame.DataFrame'>\n",
      "RangeIndex: 145460 entries, 0 to 145459\n",
      "Data columns (total 23 columns):\n",
      " #   Column         Non-Null Count   Dtype  \n",
      "---  ------         --------------   -----  \n",
      " 0   Date           145460 non-null  object \n",
      " 1   Location       145460 non-null  object \n",
      " 2   MinTemp        143975 non-null  float64\n",
      " 3   MaxTemp        144199 non-null  float64\n",
      " 4   Rainfall       142199 non-null  float64\n",
      " 5   Evaporation    82670 non-null   float64\n",
      " 6   Sunshine       75625 non-null   float64\n",
      " 7   WindGustDir    135134 non-null  object \n",
      " 8   WindGustSpeed  135197 non-null  float64\n",
      " 9   WindDir9am     134894 non-null  object \n",
      " 10  WindDir3pm     141232 non-null  object \n",
      " 11  WindSpeed9am   143693 non-null  float64\n",
      " 12  WindSpeed3pm   142398 non-null  float64\n",
      " 13  Humidity9am    142806 non-null  float64\n",
      " 14  Humidity3pm    140953 non-null  float64\n",
      " 15  Pressure9am    130395 non-null  float64\n",
      " 16  Pressure3pm    130432 non-null  float64\n",
      " 17  Cloud9am       89572 non-null   float64\n",
      " 18  Cloud3pm       86102 non-null   float64\n",
      " 19  Temp9am        143693 non-null  float64\n",
      " 20  Temp3pm        141851 non-null  float64\n",
      " 21  RainToday      142199 non-null  object \n",
      " 22  RainTomorrow   142193 non-null  object \n",
      "dtypes: float64(16), object(7)\n",
      "memory usage: 25.5+ MB\n"
     ]
    }
   ],
   "source": [
    "# Download training data from open datasets.\n",
    "dataset = pd.read_csv(\"/kaggle/input/weather-dataset-rattle-package/weatherAUS.csv\")\n",
    "dataset.info()"
   ]
  },
  {
   "cell_type": "code",
   "execution_count": 4,
   "id": "0838615a",
   "metadata": {
    "_cell_guid": "168494b3-3b9d-4e8d-ac94-a4181ce28a4f",
    "_uuid": "3dbe226e-2f95-47cd-a369-0a7b60edc2f7",
    "collapsed": false,
    "execution": {
     "iopub.execute_input": "2024-04-02T03:41:27.490503Z",
     "iopub.status.busy": "2024-04-02T03:41:27.489841Z",
     "iopub.status.idle": "2024-04-02T03:41:27.524350Z",
     "shell.execute_reply": "2024-04-02T03:41:27.523399Z"
    },
    "jupyter": {
     "outputs_hidden": false
    },
    "papermill": {
     "duration": 0.045241,
     "end_time": "2024-04-02T03:41:27.526529",
     "exception": false,
     "start_time": "2024-04-02T03:41:27.481288",
     "status": "completed"
    },
    "tags": []
   },
   "outputs": [
    {
     "data": {
      "text/html": [
       "<div>\n",
       "<style scoped>\n",
       "    .dataframe tbody tr th:only-of-type {\n",
       "        vertical-align: middle;\n",
       "    }\n",
       "\n",
       "    .dataframe tbody tr th {\n",
       "        vertical-align: top;\n",
       "    }\n",
       "\n",
       "    .dataframe thead th {\n",
       "        text-align: right;\n",
       "    }\n",
       "</style>\n",
       "<table border=\"1\" class=\"dataframe\">\n",
       "  <thead>\n",
       "    <tr style=\"text-align: right;\">\n",
       "      <th></th>\n",
       "      <th>Date</th>\n",
       "      <th>Location</th>\n",
       "      <th>MinTemp</th>\n",
       "      <th>MaxTemp</th>\n",
       "      <th>Rainfall</th>\n",
       "      <th>Evaporation</th>\n",
       "      <th>Sunshine</th>\n",
       "      <th>WindGustDir</th>\n",
       "      <th>WindGustSpeed</th>\n",
       "      <th>WindDir9am</th>\n",
       "      <th>...</th>\n",
       "      <th>Humidity9am</th>\n",
       "      <th>Humidity3pm</th>\n",
       "      <th>Pressure9am</th>\n",
       "      <th>Pressure3pm</th>\n",
       "      <th>Cloud9am</th>\n",
       "      <th>Cloud3pm</th>\n",
       "      <th>Temp9am</th>\n",
       "      <th>Temp3pm</th>\n",
       "      <th>RainToday</th>\n",
       "      <th>RainTomorrow</th>\n",
       "    </tr>\n",
       "  </thead>\n",
       "  <tbody>\n",
       "    <tr>\n",
       "      <th>0</th>\n",
       "      <td>2008-12-01</td>\n",
       "      <td>Albury</td>\n",
       "      <td>13.4</td>\n",
       "      <td>22.9</td>\n",
       "      <td>0.6</td>\n",
       "      <td>NaN</td>\n",
       "      <td>NaN</td>\n",
       "      <td>W</td>\n",
       "      <td>44.0</td>\n",
       "      <td>W</td>\n",
       "      <td>...</td>\n",
       "      <td>71.0</td>\n",
       "      <td>22.0</td>\n",
       "      <td>1007.7</td>\n",
       "      <td>1007.1</td>\n",
       "      <td>8.0</td>\n",
       "      <td>NaN</td>\n",
       "      <td>16.9</td>\n",
       "      <td>21.8</td>\n",
       "      <td>No</td>\n",
       "      <td>No</td>\n",
       "    </tr>\n",
       "    <tr>\n",
       "      <th>1</th>\n",
       "      <td>2008-12-02</td>\n",
       "      <td>Albury</td>\n",
       "      <td>7.4</td>\n",
       "      <td>25.1</td>\n",
       "      <td>0.0</td>\n",
       "      <td>NaN</td>\n",
       "      <td>NaN</td>\n",
       "      <td>WNW</td>\n",
       "      <td>44.0</td>\n",
       "      <td>NNW</td>\n",
       "      <td>...</td>\n",
       "      <td>44.0</td>\n",
       "      <td>25.0</td>\n",
       "      <td>1010.6</td>\n",
       "      <td>1007.8</td>\n",
       "      <td>NaN</td>\n",
       "      <td>NaN</td>\n",
       "      <td>17.2</td>\n",
       "      <td>24.3</td>\n",
       "      <td>No</td>\n",
       "      <td>No</td>\n",
       "    </tr>\n",
       "    <tr>\n",
       "      <th>2</th>\n",
       "      <td>2008-12-03</td>\n",
       "      <td>Albury</td>\n",
       "      <td>12.9</td>\n",
       "      <td>25.7</td>\n",
       "      <td>0.0</td>\n",
       "      <td>NaN</td>\n",
       "      <td>NaN</td>\n",
       "      <td>WSW</td>\n",
       "      <td>46.0</td>\n",
       "      <td>W</td>\n",
       "      <td>...</td>\n",
       "      <td>38.0</td>\n",
       "      <td>30.0</td>\n",
       "      <td>1007.6</td>\n",
       "      <td>1008.7</td>\n",
       "      <td>NaN</td>\n",
       "      <td>2.0</td>\n",
       "      <td>21.0</td>\n",
       "      <td>23.2</td>\n",
       "      <td>No</td>\n",
       "      <td>No</td>\n",
       "    </tr>\n",
       "  </tbody>\n",
       "</table>\n",
       "<p>3 rows × 23 columns</p>\n",
       "</div>"
      ],
      "text/plain": [
       "         Date Location  MinTemp  MaxTemp  Rainfall  Evaporation  Sunshine  \\\n",
       "0  2008-12-01   Albury     13.4     22.9       0.6          NaN       NaN   \n",
       "1  2008-12-02   Albury      7.4     25.1       0.0          NaN       NaN   \n",
       "2  2008-12-03   Albury     12.9     25.7       0.0          NaN       NaN   \n",
       "\n",
       "  WindGustDir  WindGustSpeed WindDir9am  ... Humidity9am  Humidity3pm  \\\n",
       "0           W           44.0          W  ...        71.0         22.0   \n",
       "1         WNW           44.0        NNW  ...        44.0         25.0   \n",
       "2         WSW           46.0          W  ...        38.0         30.0   \n",
       "\n",
       "   Pressure9am  Pressure3pm  Cloud9am  Cloud3pm  Temp9am  Temp3pm  RainToday  \\\n",
       "0       1007.7       1007.1       8.0       NaN     16.9     21.8         No   \n",
       "1       1010.6       1007.8       NaN       NaN     17.2     24.3         No   \n",
       "2       1007.6       1008.7       NaN       2.0     21.0     23.2         No   \n",
       "\n",
       "   RainTomorrow  \n",
       "0            No  \n",
       "1            No  \n",
       "2            No  \n",
       "\n",
       "[3 rows x 23 columns]"
      ]
     },
     "execution_count": 4,
     "metadata": {},
     "output_type": "execute_result"
    }
   ],
   "source": [
    "dataset.head(3)"
   ]
  },
  {
   "cell_type": "code",
   "execution_count": 5,
   "id": "94c3b18d",
   "metadata": {
    "execution": {
     "iopub.execute_input": "2024-04-02T03:41:27.542701Z",
     "iopub.status.busy": "2024-04-02T03:41:27.542358Z",
     "iopub.status.idle": "2024-04-02T03:41:27.597580Z",
     "shell.execute_reply": "2024-04-02T03:41:27.596691Z"
    },
    "papermill": {
     "duration": 0.066268,
     "end_time": "2024-04-02T03:41:27.600079",
     "exception": false,
     "start_time": "2024-04-02T03:41:27.533811",
     "status": "completed"
    },
    "tags": []
   },
   "outputs": [],
   "source": [
    "numeric_columns = dataset.select_dtypes(exclude=['object']).columns\n",
    "\n",
    "for column in numeric_columns:\n",
    "    median_value = int(dataset[column].median())\n",
    "    dataset[column].fillna(median_value, inplace=True)"
   ]
  },
  {
   "cell_type": "code",
   "execution_count": 6,
   "id": "463e1fce",
   "metadata": {
    "_cell_guid": "e9351337-c701-4689-b269-bdc3a0a3feea",
    "_uuid": "62a2028c-6bc8-4e8a-aaa6-a38c42c780e9",
    "collapsed": false,
    "execution": {
     "iopub.execute_input": "2024-04-02T03:41:27.617725Z",
     "iopub.status.busy": "2024-04-02T03:41:27.617104Z",
     "iopub.status.idle": "2024-04-02T03:41:27.731685Z",
     "shell.execute_reply": "2024-04-02T03:41:27.730792Z"
    },
    "jupyter": {
     "outputs_hidden": false
    },
    "papermill": {
     "duration": 0.125901,
     "end_time": "2024-04-02T03:41:27.734029",
     "exception": false,
     "start_time": "2024-04-02T03:41:27.608128",
     "status": "completed"
    },
    "tags": []
   },
   "outputs": [
    {
     "data": {
      "text/plain": [
       "RainToday\n",
       "No     110319\n",
       "Yes     31880\n",
       "Name: count, dtype: int64"
      ]
     },
     "execution_count": 6,
     "metadata": {},
     "output_type": "execute_result"
    }
   ],
   "source": [
    "columns_to_encode = ['RainToday', 'RainTomorrow']\n",
    "\n",
    "for column in columns_to_encode:\n",
    "    mode_value = dataset[column].mode()\n",
    "    dataset[column].fillna(mode_value, inplace=True)\n",
    "    \n",
    "dataset['RainToday'].value_counts()"
   ]
  },
  {
   "cell_type": "code",
   "execution_count": 7,
   "id": "9f1ffd00",
   "metadata": {
    "execution": {
     "iopub.execute_input": "2024-04-02T03:41:27.751948Z",
     "iopub.status.busy": "2024-04-02T03:41:27.751272Z",
     "iopub.status.idle": "2024-04-02T03:41:27.835287Z",
     "shell.execute_reply": "2024-04-02T03:41:27.834477Z"
    },
    "papermill": {
     "duration": 0.095038,
     "end_time": "2024-04-02T03:41:27.837662",
     "exception": false,
     "start_time": "2024-04-02T03:41:27.742624",
     "status": "completed"
    },
    "tags": []
   },
   "outputs": [],
   "source": [
    "from sklearn.preprocessing import LabelEncoder\n",
    "\n",
    "label_encoder = LabelEncoder()\n",
    "\n",
    "for column in columns_to_encode:\n",
    "    dataset[column] = label_encoder.fit_transform(dataset[column])\n",
    "    \n",
    "#from deduction, all the null values remained null, hence produced encoded value of 2\n",
    "dataset['RainToday'].replace(2, 0, inplace=True)\n",
    "dataset['RainTomorrow'].replace(2, 0, inplace=True)"
   ]
  },
  {
   "cell_type": "code",
   "execution_count": 8,
   "id": "62ea00f5",
   "metadata": {
    "execution": {
     "iopub.execute_input": "2024-04-02T03:41:27.855455Z",
     "iopub.status.busy": "2024-04-02T03:41:27.855139Z",
     "iopub.status.idle": "2024-04-02T03:41:27.918595Z",
     "shell.execute_reply": "2024-04-02T03:41:27.917705Z"
    },
    "papermill": {
     "duration": 0.075789,
     "end_time": "2024-04-02T03:41:27.921154",
     "exception": false,
     "start_time": "2024-04-02T03:41:27.845365",
     "status": "completed"
    },
    "tags": []
   },
   "outputs": [],
   "source": [
    "dataset['Date'] = pd.to_datetime(dataset['Date'], errors='coerce')\n",
    "dataset['Year'] = dataset['Date'].dt.year\n",
    "dataset['Month'] = dataset['Date'].dt.month\n",
    "dataset['Day'] = dataset['Date'].dt.day"
   ]
  },
  {
   "cell_type": "code",
   "execution_count": 9,
   "id": "5502f770",
   "metadata": {
    "_cell_guid": "26797959-31b6-410d-97fb-c42eeb96e733",
    "_uuid": "e6147c47-4562-4503-9e05-409c16ae8d0a",
    "collapsed": false,
    "execution": {
     "iopub.execute_input": "2024-04-02T03:41:27.939692Z",
     "iopub.status.busy": "2024-04-02T03:41:27.938724Z",
     "iopub.status.idle": "2024-04-02T03:41:27.956751Z",
     "shell.execute_reply": "2024-04-02T03:41:27.955896Z"
    },
    "jupyter": {
     "outputs_hidden": false
    },
    "papermill": {
     "duration": 0.029286,
     "end_time": "2024-04-02T03:41:27.958954",
     "exception": false,
     "start_time": "2024-04-02T03:41:27.929668",
     "status": "completed"
    },
    "tags": []
   },
   "outputs": [],
   "source": [
    "object_columns = dataset.select_dtypes(include=['object']).columns\n",
    "dataset = dataset.drop(object_columns, axis=1)"
   ]
  },
  {
   "cell_type": "code",
   "execution_count": 10,
   "id": "981b4dff",
   "metadata": {
    "execution": {
     "iopub.execute_input": "2024-04-02T03:41:27.976708Z",
     "iopub.status.busy": "2024-04-02T03:41:27.976330Z",
     "iopub.status.idle": "2024-04-02T03:41:28.001869Z",
     "shell.execute_reply": "2024-04-02T03:41:28.001028Z"
    },
    "papermill": {
     "duration": 0.037554,
     "end_time": "2024-04-02T03:41:28.004552",
     "exception": false,
     "start_time": "2024-04-02T03:41:27.966998",
     "status": "completed"
    },
    "tags": []
   },
   "outputs": [],
   "source": [
    "temp = dataset.select_dtypes(include=['number'])\n",
    "X = temp.drop(columns=['RainTomorrow'])  # Features\n",
    "y = dataset['RainTomorrow']  # Target"
   ]
  },
  {
   "cell_type": "code",
   "execution_count": 11,
   "id": "d9693392",
   "metadata": {
    "execution": {
     "iopub.execute_input": "2024-04-02T03:41:28.022783Z",
     "iopub.status.busy": "2024-04-02T03:41:28.022406Z",
     "iopub.status.idle": "2024-04-02T03:41:28.033183Z",
     "shell.execute_reply": "2024-04-02T03:41:28.032175Z"
    },
    "papermill": {
     "duration": 0.022385,
     "end_time": "2024-04-02T03:41:28.035763",
     "exception": false,
     "start_time": "2024-04-02T03:41:28.013378",
     "status": "completed"
    },
    "tags": []
   },
   "outputs": [
    {
     "data": {
      "text/plain": [
       "RainTomorrow\n",
       "0    113583\n",
       "1     31877\n",
       "Name: count, dtype: int64"
      ]
     },
     "execution_count": 11,
     "metadata": {},
     "output_type": "execute_result"
    }
   ],
   "source": [
    "y.value_counts()"
   ]
  },
  {
   "cell_type": "code",
   "execution_count": 12,
   "id": "0112dbc4",
   "metadata": {
    "_cell_guid": "efde58cd-c43c-4af7-9daf-aae1365b614c",
    "_uuid": "1e3832a7-c7f2-4b3e-b6ec-cd7ec5b672c2",
    "collapsed": false,
    "execution": {
     "iopub.execute_input": "2024-04-02T03:41:28.055087Z",
     "iopub.status.busy": "2024-04-02T03:41:28.054700Z",
     "iopub.status.idle": "2024-04-02T03:41:28.120226Z",
     "shell.execute_reply": "2024-04-02T03:41:28.119139Z"
    },
    "jupyter": {
     "outputs_hidden": false
    },
    "papermill": {
     "duration": 0.077621,
     "end_time": "2024-04-02T03:41:28.122757",
     "exception": false,
     "start_time": "2024-04-02T03:41:28.045136",
     "status": "completed"
    },
    "tags": []
   },
   "outputs": [],
   "source": [
    "class CustomDataset(Dataset):\n",
    "    def __init__(self, X, y):\n",
    "        self.X = X\n",
    "        self.y = y.view(-1, 1)  # Reshape y to have shape [num_samples, 1]\n",
    "        \n",
    "    def __len__(self):\n",
    "        return len(self.X)\n",
    "    \n",
    "    def __getitem__(self, idx):\n",
    "        return self.X[idx], self.y[idx]\n",
    "\n",
    "X_tensor = torch.tensor(X.values, dtype=torch.float32)\n",
    "y_tensor = torch.tensor(y.values, dtype=torch.float32)\n",
    "\n",
    "custom_dataset = CustomDataset(X_tensor, y_tensor)"
   ]
  },
  {
   "cell_type": "code",
   "execution_count": 13,
   "id": "29cca1a1",
   "metadata": {
    "_cell_guid": "64627d03-f4f8-48b7-bbf1-09bb77858084",
    "_uuid": "dd55aaee-9edc-411a-9cf6-2b82906b7dc4",
    "collapsed": false,
    "execution": {
     "iopub.execute_input": "2024-04-02T03:41:28.140963Z",
     "iopub.status.busy": "2024-04-02T03:41:28.140367Z",
     "iopub.status.idle": "2024-04-02T03:41:28.172685Z",
     "shell.execute_reply": "2024-04-02T03:41:28.171702Z"
    },
    "jupyter": {
     "outputs_hidden": false
    },
    "papermill": {
     "duration": 0.04389,
     "end_time": "2024-04-02T03:41:28.175081",
     "exception": false,
     "start_time": "2024-04-02T03:41:28.131191",
     "status": "completed"
    },
    "tags": []
   },
   "outputs": [],
   "source": [
    "train_size = int(0.8 * len(custom_dataset))  # 80% of the data for training\n",
    "test_size = len(custom_dataset) - train_size  # Remaining 20% for testing\n",
    "\n",
    "# Split the dataset\n",
    "train_dataset, test_dataset = random_split(custom_dataset, [train_size, test_size])\n",
    "\n",
    "# Create DataLoader for training data\n",
    "train_dataloader = DataLoader(train_dataset, batch_size=batch_size, shuffle=True)\n",
    "\n",
    "# Create DataLoader for test data\n",
    "test_dataloader = DataLoader(test_dataset, batch_size=batch_size, shuffle=False)"
   ]
  },
  {
   "cell_type": "code",
   "execution_count": 14,
   "id": "49d9e6c8",
   "metadata": {
    "_cell_guid": "74b26250-4e3b-4b75-b4f0-5bc11fd45711",
    "_uuid": "6c786822-2cba-4539-b043-df6ac9b5db3c",
    "collapsed": false,
    "execution": {
     "iopub.execute_input": "2024-04-02T03:41:28.193617Z",
     "iopub.status.busy": "2024-04-02T03:41:28.193245Z",
     "iopub.status.idle": "2024-04-02T03:41:28.222714Z",
     "shell.execute_reply": "2024-04-02T03:41:28.221805Z"
    },
    "jupyter": {
     "outputs_hidden": false
    },
    "papermill": {
     "duration": 0.040519,
     "end_time": "2024-04-02T03:41:28.224848",
     "exception": false,
     "start_time": "2024-04-02T03:41:28.184329",
     "status": "completed"
    },
    "tags": []
   },
   "outputs": [
    {
     "name": "stdout",
     "output_type": "stream",
     "text": [
      "Shape of X [N, C, H, W]: torch.Size([64, 20])\n",
      "Shape of y: torch.Size([64, 1]) torch.float32\n"
     ]
    }
   ],
   "source": [
    "for X, y in test_dataloader:\n",
    "    print(f\"Shape of X [N, C, H, W]: {X.shape}\")\n",
    "    print(f\"Shape of y: {y.shape} {y.dtype}\")\n",
    "    break"
   ]
  },
  {
   "cell_type": "code",
   "execution_count": 15,
   "id": "506cdfbe",
   "metadata": {
    "_cell_guid": "b1607ab5-76d9-48df-a550-6f6fdd9b6dbd",
    "_uuid": "868a2076-71c7-4a98-8e55-de005b2076ca",
    "collapsed": false,
    "execution": {
     "iopub.execute_input": "2024-04-02T03:41:28.243292Z",
     "iopub.status.busy": "2024-04-02T03:41:28.242926Z",
     "iopub.status.idle": "2024-04-02T03:41:28.259380Z",
     "shell.execute_reply": "2024-04-02T03:41:28.258256Z"
    },
    "jupyter": {
     "outputs_hidden": false
    },
    "papermill": {
     "duration": 0.027598,
     "end_time": "2024-04-02T03:41:28.261378",
     "exception": false,
     "start_time": "2024-04-02T03:41:28.233780",
     "status": "completed"
    },
    "tags": []
   },
   "outputs": [
    {
     "name": "stdout",
     "output_type": "stream",
     "text": [
      "Using cpu device\n",
      "RainPredictionModel(\n",
      "  (flatten): Flatten(start_dim=1, end_dim=-1)\n",
      "  (fc1): Linear(in_features=20, out_features=64, bias=True)\n",
      "  (relu): ReLU()\n",
      "  (fc2): Linear(in_features=64, out_features=32, bias=True)\n",
      "  (fc3): Linear(in_features=32, out_features=1, bias=True)\n",
      "  (sigmoid): Sigmoid()\n",
      ")\n"
     ]
    }
   ],
   "source": [
    "# Get cpu, gpu or mps device for training.\n",
    "device = (\n",
    "    \"cuda\"\n",
    "    if torch.cuda.is_available()\n",
    "    else \"mps\"\n",
    "    if torch.backends.mps.is_available()\n",
    "    else \"cpu\"\n",
    ")\n",
    "device = torch.device('cpu')\n",
    "print(f\"Using {device} device\")\n",
    "\n",
    "# Sample layers of Neural Network Class\n",
    "# nn.Linear(28*28, 512),\n",
    "# nn.ReLU(),\n",
    "# nn.Linear(512, 512),\n",
    "# nn.ReLU(),\n",
    "# nn.Linear(512, 10)\n",
    "\n",
    "# Define model\n",
    "class RainPredictionModel(nn.Module):\n",
    "    def __init__(self, input_size):\n",
    "        super(RainPredictionModel, self).__init__()\n",
    "        self.flatten = nn.Flatten()\n",
    "        self.fc1 = nn.Linear(input_size, 64)\n",
    "        self.relu = nn.ReLU()\n",
    "        self.fc2 = nn.Linear(64, 32)\n",
    "        self.fc3 = nn.Linear(32, 1)\n",
    "        self.sigmoid = nn.Sigmoid()\n",
    "\n",
    "    def forward(self, x):\n",
    "        x = self.flatten(x)\n",
    "        x = self.fc1(x)\n",
    "        x = self.relu(x)\n",
    "        x = self.fc2(x)\n",
    "        x = self.relu(x)\n",
    "        x = self.fc3(x)\n",
    "        x = self.sigmoid(x)\n",
    "        return x\n",
    "\n",
    "input_size = 20\n",
    "model = RainPredictionModel(input_size).to(device)\n",
    "print(model)"
   ]
  },
  {
   "cell_type": "code",
   "execution_count": 16,
   "id": "24cf7fe4",
   "metadata": {
    "_cell_guid": "2deca53a-5072-4d48-a5d4-ced6c5b86323",
    "_uuid": "d4f287a8-5742-45e7-8c40-d7c5367c0118",
    "collapsed": false,
    "execution": {
     "iopub.execute_input": "2024-04-02T03:41:28.278848Z",
     "iopub.status.busy": "2024-04-02T03:41:28.278488Z",
     "iopub.status.idle": "2024-04-02T03:41:28.283413Z",
     "shell.execute_reply": "2024-04-02T03:41:28.282649Z"
    },
    "jupyter": {
     "outputs_hidden": false
    },
    "papermill": {
     "duration": 0.015727,
     "end_time": "2024-04-02T03:41:28.285265",
     "exception": false,
     "start_time": "2024-04-02T03:41:28.269538",
     "status": "completed"
    },
    "tags": []
   },
   "outputs": [],
   "source": [
    "loss_fn = nn.BCELoss()\n",
    "optimizer = torch.optim.SGD(model.parameters(), lr=0.0001)"
   ]
  },
  {
   "cell_type": "code",
   "execution_count": 17,
   "id": "08481a50",
   "metadata": {
    "_cell_guid": "a91ca69c-143b-4b9d-aba6-0e9b999d5135",
    "_uuid": "5e4bf6be-91c0-421b-b2b9-193bc0cc1887",
    "collapsed": false,
    "execution": {
     "iopub.execute_input": "2024-04-02T03:41:28.303672Z",
     "iopub.status.busy": "2024-04-02T03:41:28.302793Z",
     "iopub.status.idle": "2024-04-02T03:41:28.309959Z",
     "shell.execute_reply": "2024-04-02T03:41:28.309052Z"
    },
    "jupyter": {
     "outputs_hidden": false
    },
    "papermill": {
     "duration": 0.018616,
     "end_time": "2024-04-02T03:41:28.311885",
     "exception": false,
     "start_time": "2024-04-02T03:41:28.293269",
     "status": "completed"
    },
    "tags": []
   },
   "outputs": [],
   "source": [
    "def train(dataloader, model, loss_fn, optimizer):\n",
    "    size = len(dataloader.dataset)\n",
    "    model.train()\n",
    "    for batch, (X, y) in enumerate(dataloader):\n",
    "        X, y = X.to(device), y.to(device)\n",
    "\n",
    "        # Compute prediction error\n",
    "        pred = model(X)\n",
    "        loss = loss_fn(pred, y)\n",
    "\n",
    "        # Backpropagation\n",
    "        loss.backward()\n",
    "        optimizer.step()\n",
    "        optimizer.zero_grad()\n",
    "\n",
    "        if batch % 100 == 0:\n",
    "            loss, current = loss.item(), (batch + 1) * len(X)\n",
    "            print(f\"loss: {loss:>7f}  [{current:>5d}/{size:>5d}]\")"
   ]
  },
  {
   "cell_type": "code",
   "execution_count": 18,
   "id": "aa6dec3d",
   "metadata": {
    "_cell_guid": "113d6d80-be48-4180-ade3-357fb1446173",
    "_uuid": "822463f8-82e7-436d-84aa-5a63e76eb270",
    "collapsed": false,
    "execution": {
     "iopub.execute_input": "2024-04-02T03:41:28.329951Z",
     "iopub.status.busy": "2024-04-02T03:41:28.329191Z",
     "iopub.status.idle": "2024-04-02T03:41:28.336266Z",
     "shell.execute_reply": "2024-04-02T03:41:28.335244Z"
    },
    "jupyter": {
     "outputs_hidden": false
    },
    "papermill": {
     "duration": 0.018204,
     "end_time": "2024-04-02T03:41:28.338374",
     "exception": false,
     "start_time": "2024-04-02T03:41:28.320170",
     "status": "completed"
    },
    "tags": []
   },
   "outputs": [],
   "source": [
    "def test(dataloader, model, loss_fn):\n",
    "    size = len(dataloader.dataset)\n",
    "    num_batches = len(dataloader)\n",
    "    model.eval()\n",
    "    test_loss, correct = 0, 0\n",
    "    with torch.no_grad():\n",
    "        for X, y in dataloader:\n",
    "            X, y = X.to(device), y.to(device)\n",
    "            pred = model(X)\n",
    "            test_loss += loss_fn(pred, y).item()\n",
    "            correct += (pred.argmax(1) == y).type(torch.float).sum().item()\n",
    "    test_loss /= num_batches\n",
    "    correct /= size\n",
    "    print(f\"Test Error: \\n Accuracy: {(correct):>0.1f}%, Avg loss: {test_loss:>8f} \\n\")"
   ]
  },
  {
   "cell_type": "code",
   "execution_count": 19,
   "id": "6f1b29e8",
   "metadata": {
    "_cell_guid": "6e0f814a-f586-41a6-b0a3-d99d23a76aef",
    "_uuid": "ecc08edb-cddf-4a11-a27d-e074c635b6f8",
    "collapsed": false,
    "execution": {
     "iopub.execute_input": "2024-04-02T03:41:28.355175Z",
     "iopub.status.busy": "2024-04-02T03:41:28.354864Z",
     "iopub.status.idle": "2024-04-02T03:42:34.163638Z",
     "shell.execute_reply": "2024-04-02T03:42:34.162573Z"
    },
    "jupyter": {
     "outputs_hidden": false
    },
    "papermill": {
     "duration": 65.819832,
     "end_time": "2024-04-02T03:42:34.166052",
     "exception": false,
     "start_time": "2024-04-02T03:41:28.346220",
     "status": "completed"
    },
    "tags": []
   },
   "outputs": [
    {
     "name": "stdout",
     "output_type": "stream",
     "text": [
      "Epoch 1\n",
      "-------------------------------\n",
      "loss: 10.717715  [   64/116368]\n",
      "loss: 9.303443  [ 6464/116368]\n",
      "loss: 7.727368  [12864/116368]\n",
      "loss: 8.543629  [19264/116368]\n",
      "loss: 10.766202  [25664/116368]\n",
      "loss: 8.546373  [32064/116368]\n",
      "loss: 7.794606  [38464/116368]\n",
      "loss: 8.491985  [44864/116368]\n",
      "loss: 14.788044  [51264/116368]\n",
      "loss: 11.605762  [57664/116368]\n",
      "loss: 13.767898  [64064/116368]\n",
      "loss: 8.312973  [70464/116368]\n",
      "loss: 13.150848  [76864/116368]\n",
      "loss: 8.494238  [83264/116368]\n",
      "loss: 10.214846  [89664/116368]\n",
      "loss: 9.213172  [96064/116368]\n",
      "loss: 13.926218  [102464/116368]\n",
      "loss: 9.344378  [108864/116368]\n",
      "loss: 16.139441  [115264/116368]\n",
      "Test Error: \n",
      " Accuracy: 50.1%, Avg loss: 10.700687 \n",
      "\n",
      "Epoch 2\n",
      "-------------------------------\n",
      "loss: 8.437740  [   64/116368]\n",
      "loss: 5.425517  [ 6464/116368]\n",
      "loss: 9.235620  [12864/116368]\n",
      "loss: 14.690083  [19264/116368]\n",
      "loss: 11.514810  [25664/116368]\n",
      "loss: 11.579418  [32064/116368]\n",
      "loss: 7.783665  [38464/116368]\n",
      "loss: 9.327372  [44864/116368]\n",
      "loss: 9.251909  [51264/116368]\n",
      "loss: 10.141560  [57664/116368]\n",
      "loss: 7.747924  [64064/116368]\n",
      "loss: 13.792811  [70464/116368]\n",
      "loss: 7.740423  [76864/116368]\n",
      "loss: 9.355178  [83264/116368]\n",
      "loss: 10.739614  [89664/116368]\n",
      "loss: 11.802031  [96064/116368]\n",
      "loss: 7.574515  [102464/116368]\n",
      "loss: 10.815830  [108864/116368]\n",
      "loss: 11.341338  [115264/116368]\n",
      "Test Error: \n",
      " Accuracy: 50.1%, Avg loss: 10.700687 \n",
      "\n",
      "Epoch 3\n",
      "-------------------------------\n",
      "loss: 8.465661  [   64/116368]\n",
      "loss: 6.952233  [ 6464/116368]\n",
      "loss: 10.697330  [12864/116368]\n",
      "loss: 9.276366  [19264/116368]\n",
      "loss: 9.251783  [25664/116368]\n",
      "loss: 8.530451  [32064/116368]\n",
      "loss: 9.147652  [38464/116368]\n",
      "loss: 10.911842  [44864/116368]\n",
      "loss: 12.312760  [51264/116368]\n",
      "loss: 9.215099  [57664/116368]\n",
      "loss: 7.747902  [64064/116368]\n",
      "loss: 14.683234  [70464/116368]\n",
      "loss: 11.553610  [76864/116368]\n",
      "loss: 12.486093  [83264/116368]\n",
      "loss: 14.669247  [89664/116368]\n",
      "loss: 11.648393  [96064/116368]\n",
      "loss: 14.034024  [102464/116368]\n",
      "loss: 15.336176  [108864/116368]\n",
      "loss: 13.007512  [115264/116368]\n",
      "Test Error: \n",
      " Accuracy: 50.1%, Avg loss: 10.700687 \n",
      "\n",
      "Epoch 4\n",
      "-------------------------------\n",
      "loss: 13.812922  [   64/116368]\n",
      "loss: 12.372607  [ 6464/116368]\n",
      "loss: 8.545129  [12864/116368]\n",
      "loss: 12.797344  [19264/116368]\n",
      "loss: 15.567486  [25664/116368]\n",
      "loss: 8.530660  [32064/116368]\n",
      "loss: 10.056602  [38464/116368]\n",
      "loss: 15.399263  [44864/116368]\n",
      "loss: 10.905904  [51264/116368]\n",
      "loss: 15.534418  [57664/116368]\n",
      "loss: 8.604172  [64064/116368]\n",
      "loss: 14.770670  [70464/116368]\n",
      "loss: 12.451516  [76864/116368]\n",
      "loss: 12.391709  [83264/116368]\n",
      "loss: 11.651419  [89664/116368]\n",
      "loss: 8.513876  [96064/116368]\n",
      "loss: 8.488011  [102464/116368]\n",
      "loss: 10.117266  [108864/116368]\n",
      "loss: 12.509420  [115264/116368]\n",
      "Test Error: \n",
      " Accuracy: 50.1%, Avg loss: 10.700687 \n",
      "\n",
      "Epoch 5\n",
      "-------------------------------\n",
      "loss: 8.411022  [   64/116368]\n",
      "loss: 13.022312  [ 6464/116368]\n",
      "loss: 13.158484  [12864/116368]\n",
      "loss: 10.857758  [19264/116368]\n",
      "loss: 9.346502  [25664/116368]\n",
      "loss: 13.239401  [32064/116368]\n",
      "loss: 10.075177  [38464/116368]\n",
      "loss: 12.356236  [44864/116368]\n",
      "loss: 10.760807  [51264/116368]\n",
      "loss: 13.139895  [57664/116368]\n",
      "loss: 13.797585  [64064/116368]\n",
      "loss: 9.315482  [70464/116368]\n",
      "loss: 11.434279  [76864/116368]\n",
      "loss: 10.212435  [83264/116368]\n",
      "loss: 6.984379  [89664/116368]\n",
      "loss: 13.807983  [96064/116368]\n",
      "loss: 10.075358  [102464/116368]\n",
      "loss: 10.166177  [108864/116368]\n",
      "loss: 10.703696  [115264/116368]\n",
      "Test Error: \n",
      " Accuracy: 50.1%, Avg loss: 10.700687 \n",
      "\n",
      "Epoch 6\n",
      "-------------------------------\n",
      "loss: 9.993357  [   64/116368]\n",
      "loss: 12.374720  [ 6464/116368]\n",
      "loss: 12.340726  [12864/116368]\n",
      "loss: 10.080711  [19264/116368]\n",
      "loss: 12.389375  [25664/116368]\n",
      "loss: 9.893867  [32064/116368]\n",
      "loss: 10.798166  [38464/116368]\n",
      "loss: 14.008610  [44864/116368]\n",
      "loss: 11.382865  [51264/116368]\n",
      "loss: 7.724608  [57664/116368]\n",
      "loss: 12.265940  [64064/116368]\n",
      "loss: 10.837920  [70464/116368]\n",
      "loss: 16.389277  [76864/116368]\n",
      "loss: 11.492611  [83264/116368]\n",
      "loss: 9.961268  [89664/116368]\n",
      "loss: 10.897922  [96064/116368]\n",
      "loss: 11.461258  [102464/116368]\n",
      "loss: 8.625147  [108864/116368]\n",
      "loss: 9.288473  [115264/116368]\n",
      "Test Error: \n",
      " Accuracy: 50.1%, Avg loss: 10.700687 \n",
      "\n",
      "Epoch 7\n",
      "-------------------------------\n",
      "loss: 13.153040  [   64/116368]\n",
      "loss: 13.217574  [ 6464/116368]\n",
      "loss: 10.019521  [12864/116368]\n",
      "loss: 11.606210  [19264/116368]\n",
      "loss: 13.786619  [25664/116368]\n",
      "loss: 10.646523  [32064/116368]\n",
      "loss: 11.490303  [38464/116368]\n",
      "loss: 12.362351  [44864/116368]\n",
      "loss: 7.742109  [51264/116368]\n",
      "loss: 14.637946  [57664/116368]\n",
      "loss: 13.986475  [64064/116368]\n",
      "loss: 9.271548  [70464/116368]\n",
      "loss: 17.146877  [76864/116368]\n",
      "loss: 11.584601  [83264/116368]\n",
      "loss: 7.662591  [89664/116368]\n",
      "loss: 8.482572  [96064/116368]\n",
      "loss: 13.904032  [102464/116368]\n",
      "loss: 11.482970  [108864/116368]\n",
      "loss: 3.915529  [115264/116368]\n",
      "Test Error: \n",
      " Accuracy: 50.1%, Avg loss: 10.700687 \n",
      "\n",
      "Epoch 8\n",
      "-------------------------------\n",
      "loss: 13.100767  [   64/116368]\n",
      "loss: 8.483241  [ 6464/116368]\n",
      "loss: 9.332962  [12864/116368]\n",
      "loss: 13.096462  [19264/116368]\n",
      "loss: 8.516432  [25664/116368]\n",
      "loss: 11.505178  [32064/116368]\n",
      "loss: 7.854240  [38464/116368]\n",
      "loss: 8.361820  [44864/116368]\n",
      "loss: 13.802124  [51264/116368]\n",
      "loss: 12.401711  [57664/116368]\n",
      "loss: 9.232739  [64064/116368]\n",
      "loss: 16.228653  [70464/116368]\n",
      "loss: 13.854999  [76864/116368]\n",
      "loss: 14.792392  [83264/116368]\n",
      "loss: 13.774478  [89664/116368]\n",
      "loss: 9.126569  [96064/116368]\n",
      "loss: 10.062551  [102464/116368]\n",
      "loss: 13.083873  [108864/116368]\n",
      "loss: 13.076855  [115264/116368]\n",
      "Test Error: \n",
      " Accuracy: 50.1%, Avg loss: 10.700687 \n",
      "\n",
      "Epoch 9\n",
      "-------------------------------\n",
      "loss: 15.648582  [   64/116368]\n",
      "loss: 9.148174  [ 6464/116368]\n",
      "loss: 8.596418  [12864/116368]\n",
      "loss: 14.612851  [19264/116368]\n",
      "loss: 14.695409  [25664/116368]\n",
      "loss: 12.366827  [32064/116368]\n",
      "loss: 12.455400  [38464/116368]\n",
      "loss: 9.975524  [44864/116368]\n",
      "loss: 9.313403  [51264/116368]\n",
      "loss: 12.448158  [57664/116368]\n",
      "loss: 10.742072  [64064/116368]\n",
      "loss: 7.863223  [70464/116368]\n",
      "loss: 8.567117  [76864/116368]\n",
      "loss: 6.826612  [83264/116368]\n",
      "loss: 7.725940  [89664/116368]\n",
      "loss: 11.683831  [96064/116368]\n",
      "loss: 15.457455  [102464/116368]\n",
      "loss: 13.849537  [108864/116368]\n",
      "loss: 7.689988  [115264/116368]\n",
      "Test Error: \n",
      " Accuracy: 50.1%, Avg loss: 10.700687 \n",
      "\n",
      "Epoch 10\n",
      "-------------------------------\n",
      "loss: 14.613988  [   64/116368]\n",
      "loss: 13.217341  [ 6464/116368]\n",
      "loss: 12.434704  [12864/116368]\n",
      "loss: 9.371258  [19264/116368]\n",
      "loss: 8.532063  [25664/116368]\n",
      "loss: 15.531507  [32064/116368]\n",
      "loss: 7.094565  [38464/116368]\n",
      "loss: 12.243382  [44864/116368]\n",
      "loss: 15.375390  [51264/116368]\n",
      "loss: 8.527698  [57664/116368]\n",
      "loss: 13.250743  [64064/116368]\n",
      "loss: 5.454990  [70464/116368]\n",
      "loss: 12.282122  [76864/116368]\n",
      "loss: 13.830812  [83264/116368]\n",
      "loss: 12.376048  [89664/116368]\n",
      "loss: 10.758741  [96064/116368]\n",
      "loss: 14.808240  [102464/116368]\n",
      "loss: 8.495619  [108864/116368]\n",
      "loss: 12.281087  [115264/116368]\n",
      "Test Error: \n",
      " Accuracy: 50.1%, Avg loss: 10.700687 \n",
      "\n",
      "Epoch 11\n",
      "-------------------------------\n",
      "loss: 11.552229  [   64/116368]\n",
      "loss: 14.571567  [ 6464/116368]\n",
      "loss: 11.602020  [12864/116368]\n",
      "loss: 9.427726  [19264/116368]\n",
      "loss: 7.603827  [25664/116368]\n",
      "loss: 8.500110  [32064/116368]\n",
      "loss: 10.089706  [38464/116368]\n",
      "loss: 9.381618  [44864/116368]\n",
      "loss: 13.059135  [51264/116368]\n",
      "loss: 14.632993  [57664/116368]\n",
      "loss: 10.754133  [64064/116368]\n",
      "loss: 7.784883  [70464/116368]\n",
      "loss: 13.913390  [76864/116368]\n",
      "loss: 10.083796  [83264/116368]\n",
      "loss: 8.617791  [89664/116368]\n",
      "loss: 10.694139  [96064/116368]\n",
      "loss: 8.565061  [102464/116368]\n",
      "loss: 11.501397  [108864/116368]\n",
      "loss: 12.327259  [115264/116368]\n",
      "Test Error: \n",
      " Accuracy: 50.1%, Avg loss: 10.700687 \n",
      "\n",
      "Epoch 12\n",
      "-------------------------------\n",
      "loss: 12.143777  [   64/116368]\n",
      "loss: 15.486794  [ 6464/116368]\n",
      "loss: 10.900037  [12864/116368]\n",
      "loss: 9.354547  [19264/116368]\n",
      "loss: 11.502789  [25664/116368]\n",
      "loss: 10.735077  [32064/116368]\n",
      "loss: 7.821915  [38464/116368]\n",
      "loss: 10.076778  [44864/116368]\n",
      "loss: 9.431152  [51264/116368]\n",
      "loss: 11.443954  [57664/116368]\n",
      "loss: 8.601055  [64064/116368]\n",
      "loss: 12.545841  [70464/116368]\n",
      "loss: 14.614303  [76864/116368]\n",
      "loss: 11.471345  [83264/116368]\n",
      "loss: 10.720960  [89664/116368]\n",
      "loss: 14.053970  [96064/116368]\n",
      "loss: 8.359509  [102464/116368]\n",
      "loss: 11.419378  [108864/116368]\n",
      "loss: 12.351048  [115264/116368]\n",
      "Test Error: \n",
      " Accuracy: 50.1%, Avg loss: 10.700687 \n",
      "\n",
      "Epoch 13\n",
      "-------------------------------\n",
      "loss: 12.910592  [   64/116368]\n",
      "loss: 10.878946  [ 6464/116368]\n",
      "loss: 13.174975  [12864/116368]\n",
      "loss: 10.770513  [19264/116368]\n",
      "loss: 6.181979  [25664/116368]\n",
      "loss: 7.788761  [32064/116368]\n",
      "loss: 8.290009  [38464/116368]\n",
      "loss: 7.750661  [44864/116368]\n",
      "loss: 8.468987  [51264/116368]\n",
      "loss: 14.735727  [57664/116368]\n",
      "loss: 8.471294  [64064/116368]\n",
      "loss: 11.513590  [70464/116368]\n",
      "loss: 16.924526  [76864/116368]\n",
      "loss: 9.150491  [83264/116368]\n",
      "loss: 5.492500  [89664/116368]\n",
      "loss: 10.692824  [96064/116368]\n",
      "loss: 11.493358  [102464/116368]\n",
      "loss: 7.728187  [108864/116368]\n",
      "loss: 7.819983  [115264/116368]\n",
      "Test Error: \n",
      " Accuracy: 50.1%, Avg loss: 10.700687 \n",
      "\n",
      "Epoch 14\n",
      "-------------------------------\n",
      "loss: 7.723363  [   64/116368]\n",
      "loss: 8.381256  [ 6464/116368]\n",
      "loss: 10.115128  [12864/116368]\n",
      "loss: 10.787867  [19264/116368]\n",
      "loss: 10.758634  [25664/116368]\n",
      "loss: 10.733853  [32064/116368]\n",
      "loss: 7.580787  [38464/116368]\n",
      "loss: 8.548684  [44864/116368]\n",
      "loss: 10.145113  [51264/116368]\n",
      "loss: 10.174697  [57664/116368]\n",
      "loss: 8.438559  [64064/116368]\n",
      "loss: 9.946638  [70464/116368]\n",
      "loss: 11.519154  [76864/116368]\n",
      "loss: 13.137233  [83264/116368]\n",
      "loss: 9.979284  [89664/116368]\n",
      "loss: 13.149452  [96064/116368]\n",
      "loss: 7.615860  [102464/116368]\n",
      "loss: 13.056110  [108864/116368]\n",
      "loss: 11.347189  [115264/116368]\n",
      "Test Error: \n",
      " Accuracy: 50.1%, Avg loss: 10.700687 \n",
      "\n",
      "Epoch 15\n",
      "-------------------------------\n",
      "loss: 10.062471  [   64/116368]\n",
      "loss: 13.876409  [ 6464/116368]\n",
      "loss: 10.811468  [12864/116368]\n",
      "loss: 6.943210  [19264/116368]\n",
      "loss: 15.443766  [25664/116368]\n",
      "loss: 6.929265  [32064/116368]\n",
      "loss: 10.080296  [38464/116368]\n",
      "loss: 6.056857  [44864/116368]\n",
      "loss: 13.221168  [51264/116368]\n",
      "loss: 9.251181  [57664/116368]\n",
      "loss: 15.290789  [64064/116368]\n",
      "loss: 15.546987  [70464/116368]\n",
      "loss: 17.049101  [76864/116368]\n",
      "loss: 9.160062  [83264/116368]\n",
      "loss: 8.584169  [89664/116368]\n",
      "loss: 12.240082  [96064/116368]\n",
      "loss: 11.539543  [102464/116368]\n",
      "loss: 7.707105  [108864/116368]\n",
      "loss: 12.395505  [115264/116368]\n",
      "Test Error: \n",
      " Accuracy: 50.1%, Avg loss: 10.700687 \n",
      "\n",
      "Epoch 16\n",
      "-------------------------------\n",
      "loss: 8.520197  [   64/116368]\n",
      "loss: 4.576648  [ 6464/116368]\n",
      "loss: 11.494252  [12864/116368]\n",
      "loss: 9.245057  [19264/116368]\n",
      "loss: 11.440093  [25664/116368]\n",
      "loss: 9.986402  [32064/116368]\n",
      "loss: 10.912691  [38464/116368]\n",
      "loss: 6.982605  [44864/116368]\n",
      "loss: 10.021939  [51264/116368]\n",
      "loss: 10.007998  [57664/116368]\n",
      "loss: 7.036854  [64064/116368]\n",
      "loss: 16.334414  [70464/116368]\n",
      "loss: 14.579611  [76864/116368]\n",
      "loss: 10.781276  [83264/116368]\n",
      "loss: 12.229158  [89664/116368]\n",
      "loss: 13.931334  [96064/116368]\n",
      "loss: 10.141632  [102464/116368]\n",
      "loss: 6.113067  [108864/116368]\n",
      "loss: 5.383617  [115264/116368]\n",
      "Test Error: \n",
      " Accuracy: 50.1%, Avg loss: 10.700686 \n",
      "\n",
      "Epoch 17\n",
      "-------------------------------\n",
      "loss: 13.901211  [   64/116368]\n",
      "loss: 8.525644  [ 6464/116368]\n",
      "loss: 9.251499  [12864/116368]\n",
      "loss: 6.944049  [19264/116368]\n",
      "loss: 11.426688  [25664/116368]\n",
      "loss: 9.242756  [32064/116368]\n",
      "loss: 12.380751  [38464/116368]\n",
      "loss: 10.688463  [44864/116368]\n",
      "loss: 8.473031  [51264/116368]\n",
      "loss: 8.505198  [57664/116368]\n",
      "loss: 10.808651  [64064/116368]\n",
      "loss: 11.494678  [70464/116368]\n",
      "loss: 11.593127  [76864/116368]\n",
      "loss: 16.962391  [83264/116368]\n",
      "loss: 8.570877  [89664/116368]\n",
      "loss: 10.057030  [96064/116368]\n",
      "loss: 10.893662  [102464/116368]\n",
      "loss: 7.713019  [108864/116368]\n",
      "loss: 11.686046  [115264/116368]\n",
      "Test Error: \n",
      " Accuracy: 50.1%, Avg loss: 10.700686 \n",
      "\n",
      "Epoch 18\n",
      "-------------------------------\n",
      "loss: 9.376019  [   64/116368]\n",
      "loss: 12.370708  [ 6464/116368]\n",
      "loss: 9.257641  [12864/116368]\n",
      "loss: 9.972048  [19264/116368]\n",
      "loss: 13.891643  [25664/116368]\n",
      "loss: 8.422391  [32064/116368]\n",
      "loss: 13.038735  [38464/116368]\n",
      "loss: 11.599814  [44864/116368]\n",
      "loss: 12.383192  [51264/116368]\n",
      "loss: 8.645858  [57664/116368]\n",
      "loss: 6.976146  [64064/116368]\n",
      "loss: 12.334773  [70464/116368]\n",
      "loss: 12.293695  [76864/116368]\n",
      "loss: 12.306995  [83264/116368]\n",
      "loss: 13.127028  [89664/116368]\n",
      "loss: 8.507626  [96064/116368]\n",
      "loss: 7.708323  [102464/116368]\n",
      "loss: 11.433807  [108864/116368]\n",
      "loss: 11.545435  [115264/116368]\n",
      "Test Error: \n",
      " Accuracy: 50.1%, Avg loss: 10.700686 \n",
      "\n",
      "Epoch 19\n",
      "-------------------------------\n",
      "loss: 11.551881  [   64/116368]\n",
      "loss: 13.207223  [ 6464/116368]\n",
      "loss: 13.145010  [12864/116368]\n",
      "loss: 9.992321  [19264/116368]\n",
      "loss: 10.817090  [25664/116368]\n",
      "loss: 8.505941  [32064/116368]\n",
      "loss: 11.602805  [38464/116368]\n",
      "loss: 14.539131  [44864/116368]\n",
      "loss: 9.288594  [51264/116368]\n",
      "loss: 6.972740  [57664/116368]\n",
      "loss: 10.087158  [64064/116368]\n",
      "loss: 8.432377  [70464/116368]\n",
      "loss: 9.154360  [76864/116368]\n",
      "loss: 10.004719  [83264/116368]\n",
      "loss: 10.778549  [89664/116368]\n",
      "loss: 13.887858  [96064/116368]\n",
      "loss: 13.958154  [102464/116368]\n",
      "loss: 10.879676  [108864/116368]\n",
      "loss: 8.449182  [115264/116368]\n",
      "Test Error: \n",
      " Accuracy: 50.1%, Avg loss: 10.700686 \n",
      "\n",
      "Epoch 20\n",
      "-------------------------------\n",
      "loss: 6.179965  [   64/116368]\n",
      "loss: 14.769801  [ 6464/116368]\n",
      "loss: 14.789562  [12864/116368]\n",
      "loss: 10.016199  [19264/116368]\n",
      "loss: 10.824438  [25664/116368]\n",
      "loss: 7.785631  [32064/116368]\n",
      "loss: 5.445345  [38464/116368]\n",
      "loss: 10.800564  [44864/116368]\n",
      "loss: 9.245692  [51264/116368]\n",
      "loss: 8.452299  [57664/116368]\n",
      "loss: 16.121021  [64064/116368]\n",
      "loss: 8.509817  [70464/116368]\n",
      "loss: 13.136521  [76864/116368]\n",
      "loss: 11.532434  [83264/116368]\n",
      "loss: 11.528923  [89664/116368]\n",
      "loss: 10.049594  [96064/116368]\n",
      "loss: 13.981647  [102464/116368]\n",
      "loss: 13.820398  [108864/116368]\n",
      "loss: 13.033320  [115264/116368]\n",
      "Test Error: \n",
      " Accuracy: 50.1%, Avg loss: 10.700686 \n",
      "\n",
      "Done!\n"
     ]
    }
   ],
   "source": [
    "# epochs = 5\n",
    "for t in range(epoch_num):\n",
    "    print(f\"Epoch {t+1}\\n-------------------------------\")\n",
    "    train(train_dataloader, model, loss_fn, optimizer)\n",
    "    test(test_dataloader, model, loss_fn)\n",
    "print(\"Done!\")"
   ]
  },
  {
   "cell_type": "code",
   "execution_count": 20,
   "id": "23ef383b",
   "metadata": {
    "_cell_guid": "06ab4034-edc3-457c-893b-2bcd0d8a9fd7",
    "_uuid": "ad9739f1-c705-4142-b839-ffd7b128f4a0",
    "collapsed": false,
    "execution": {
     "iopub.execute_input": "2024-04-02T03:42:34.222970Z",
     "iopub.status.busy": "2024-04-02T03:42:34.222577Z",
     "iopub.status.idle": "2024-04-02T03:42:34.688366Z",
     "shell.execute_reply": "2024-04-02T03:42:34.687306Z"
    },
    "jupyter": {
     "outputs_hidden": false
    },
    "papermill": {
     "duration": 0.496507,
     "end_time": "2024-04-02T03:42:34.690794",
     "exception": false,
     "start_time": "2024-04-02T03:42:34.194287",
     "status": "completed"
    },
    "tags": []
   },
   "outputs": [
    {
     "name": "stdout",
     "output_type": "stream",
     "text": [
      "Test set Accuracy : 50.12%\n"
     ]
    }
   ],
   "source": [
    "model.eval()    # 평가시에는 dropout이 OFF 된다.\n",
    "correct = 0\n",
    "for data, target in test_dataloader:\n",
    "    data = data.to(device)\n",
    "    target = target.to(device)\n",
    "    output = model(data)\n",
    "    prediction = output.data.max(1)[1]\n",
    "    correct += prediction.eq(target.data).sum()\n",
    "print('Test set Accuracy : {:.2f}%'.format(correct / len(test_dataloader.dataset)))"
   ]
  }
 ],
 "metadata": {
  "kaggle": {
   "accelerator": "nvidiaTeslaT4",
   "dataSources": [
    {
     "datasetId": 6012,
     "sourceId": 1733506,
     "sourceType": "datasetVersion"
    }
   ],
   "dockerImageVersionId": 30673,
   "isGpuEnabled": true,
   "isInternetEnabled": true,
   "language": "python",
   "sourceType": "notebook"
  },
  "kernelspec": {
   "display_name": "Python 3",
   "language": "python",
   "name": "python3"
  },
  "language_info": {
   "codemirror_mode": {
    "name": "ipython",
    "version": 3
   },
   "file_extension": ".py",
   "mimetype": "text/x-python",
   "name": "python",
   "nbconvert_exporter": "python",
   "pygments_lexer": "ipython3",
   "version": "3.10.13"
  },
  "papermill": {
   "default_parameters": {},
   "duration": 83.40393,
   "end_time": "2024-04-02T03:42:37.007799",
   "environment_variables": {},
   "exception": null,
   "input_path": "__notebook__.ipynb",
   "output_path": "__notebook__.ipynb",
   "parameters": {},
   "start_time": "2024-04-02T03:41:13.603869",
   "version": "2.5.0"
  }
 },
 "nbformat": 4,
 "nbformat_minor": 5
}
